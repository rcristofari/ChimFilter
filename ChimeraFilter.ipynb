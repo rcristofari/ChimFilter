{
 "cells": [
  {
   "cell_type": "code",
   "execution_count": 1,
   "metadata": {},
   "outputs": [],
   "source": [
    "import numpy as np\n",
    "import matplotlib.pyplot as plt\n",
    "from collections import Counter\n",
    "import gzip\n",
    "from Bio import SeqIO\n",
    "import seaborn\n",
    "import math\n",
    "import random\n",
    "import os\n",
    "import sys\n",
    "import importlib\n",
    "\n",
    "sys.path.append('/home/robin/Elephants/Chimeras/')\n",
    "import ChimFilter"
   ]
  },
  {
   "cell_type": "markdown",
   "metadata": {},
   "source": [
    "### Load unfiltered, aligned LAA data:\n",
    "We can test this approach on all individuals in the MHC dataset. At first glance, it seems some sequences are tractable, and others not. I'd imagine this is linked to how credible the sequences are in the first place... i.e. how many reads are used to support them."
   ]
  }
 ],
 "metadata": {
  "kernelspec": {
   "display_name": "Python 3",
   "language": "python",
   "name": "python3"
  },
  "language_info": {
   "codemirror_mode": {
    "name": "ipython",
    "version": 3
   },
   "file_extension": ".py",
   "mimetype": "text/x-python",
   "name": "python",
   "nbconvert_exporter": "python",
   "pygments_lexer": "ipython3",
   "version": "3.7.4"
  }
 },
 "nbformat": 4,
 "nbformat_minor": 2
}
